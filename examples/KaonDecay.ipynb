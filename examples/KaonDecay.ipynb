{
 "cells": [
  {
   "cell_type": "code",
   "execution_count": 1,
   "metadata": {},
   "outputs": [],
   "source": [
    "import numpy as np\n",
    "import os\n",
    "current_path = os.getcwd()\n",
    "PETITE_home_dir= current_path.split('examples')[0]\n",
    "dictionary_dir = \"data/\""
   ]
  },
  {
   "cell_type": "code",
   "execution_count": 2,
   "metadata": {},
   "outputs": [],
   "source": [
    "# import src\n",
    "import sys\n",
    "sys.path.append(PETITE_home_dir)\n",
    "from src.shower import *\n",
    "import pickle as pk\n",
    "from matplotlib import pyplot as plt\n",
    "from src.particle import Particle, meson_twobody_branchingratios\n",
    "from tqdm import tqdm\n",
    "import pickle as pk\n",
    "from src.physical_constants import m_kaon_pm\n"
   ]
  },
  {
   "cell_type": "markdown",
   "metadata": {},
   "source": [
    "## Get $\\pi^0$, $K^\\pm$ and $\\eta$ beam from 1000 POT shower"
   ]
  },
  {
   "cell_type": "code",
   "execution_count": 3,
   "metadata": {},
   "outputs": [],
   "source": [
    "pion_beam = np.loadtxt(PETITE_home_dir+dictionary_dir+'Pi0_400GeVProtons_1e3POT.txt')\n",
    "NPOT = 1e3\n",
    "NSamples_pion = len(pion_beam)"
   ]
  },
  {
   "cell_type": "code",
   "execution_count": 4,
   "metadata": {},
   "outputs": [],
   "source": [
    "kaon_beam = np.loadtxt(PETITE_home_dir+dictionary_dir+'kaon_momenta_1000POT.txt')\n",
    "NSamples_kaon = len(kaon_beam)"
   ]
  },
  {
   "cell_type": "code",
   "execution_count": 5,
   "metadata": {},
   "outputs": [],
   "source": [
    "eta_beam = np.loadtxt(PETITE_home_dir+dictionary_dir+'eta_momenta_1000POT.txt')\n",
    "NSamples_eta = len(eta_beam)"
   ]
  },
  {
   "cell_type": "code",
   "execution_count": 6,
   "metadata": {},
   "outputs": [
    {
     "data": {
      "image/png": "[encoded data removed]",
      "text/plain": [
       "<Figure size 432x288 with 1 Axes>"
      ]
     },
     "metadata": {
      "needs_background": "light"
     },
     "output_type": "display_data"
    },
    {
     "name": "stdout",
     "output_type": "stream",
     "text": [
      "0.8427267550926746\n"
     ]
    }
   ],
   "source": [
    "br_vs_mv = np.loadtxt(PETITE_home_dir+dictionary_dir+'br_muon.txt')\n",
    "mv = br_vs_mv[:,0]\n",
    "br = br_vs_mv[:,1]/(1e-3)**2\n",
    "\n",
    "br_vs_mv_e = np.loadtxt(PETITE_home_dir+dictionary_dir+'br_electron.txt')\n",
    "mv_e = br_vs_mv_e[:,0]\n",
    "br_e = br_vs_mv_e[:,1]/(1e-3)**2\n",
    "# interpolate \n",
    "from scipy import interpolate\n",
    "br_interp = interpolate.interp1d(mv, br, kind='linear')\n",
    "br_interp_e = interpolate.interp1d(mv_e, br_e, kind='linear')\n",
    "mv_new = np.logspace(-3, np.log10(0.35), 1000)\n",
    "br_new = br_interp(mv_new)\n",
    "mv_new_e = np.logspace(-3, np.log10(0.14), 1000)\n",
    "br_new_e = br_interp_e(mv_new_e)\n",
    "plt.plot(mv_new, br_new)\n",
    "plt.plot(mv_new_e, br_new_e)\n",
    "plt.xscale('log')\n",
    "plt.xlabel(r'$m_{V}$ [GeV]')\n",
    "plt.ylabel(r'Br($K^{\\pm} \\rightarrow l^{\\pm} \\nu V$)/$g^2$')\n",
    "plt.yscale('log')\n",
    "plt.show()\n",
    "\n",
    "print(br_interp(0.01))\n"
   ]
  },
  {
   "cell_type": "code",
   "execution_count": 7,
   "metadata": {},
   "outputs": [],
   "source": [
    "# decay weight for kaon decay\n",
    "def decay_weight(mV, lepton = \"mu\"):\n",
    "    if lepton == \"mu\":\n",
    "        return br_interp(mV)\n",
    "    elif lepton == \"e\":\n",
    "        return br_interp_e(mV)\n",
    "    else:\n",
    "        raise ValueError(\"lepton must be either mu or e\")\n",
    "\n",
    "# decay weight for pion and eta decay\n",
    "def decay_weight_twobody(particle, mV):\n",
    "    mass_ratio = mV/particle.get_ids()[\"mass\"]\n",
    "    if mass_ratio >= 1.0:\n",
    "        return 0.0\n",
    "    else:\n",
    "        return 2*(1.0 - mass_ratio**2)**3*meson_twobody_branchingratios[particle.get_ids()[\"PID\"]]\n"
   ]
  },
  {
   "cell_type": "code",
   "execution_count": 8,
   "metadata": {},
   "outputs": [],
   "source": [
    "def transverse_position(particle, z):\n",
    "    x0, y0, z0 = particle.get_r0()\n",
    "    E, px, py, pz = particle.get_p0()\n",
    "\n",
    "    T = (z-z0)/pz #proxy for the time of propagation from z0 to z in the longitudinal direction\n",
    "    xf, yf = x0 + T*px, y0 + T*py\n",
    "    return [xf, yf]\n",
    "\n",
    "def detector_cut(particle_list, detector_positions, detector_radius, method=\"Sample\", energy_cut=None, detector_inner_radius=0.0):\n",
    "    particle_list = np.array(particle_list)\n",
    "\n",
    "    if energy_cut is not None:\n",
    "        energies = np.array([p0.get_p0()[0] for p0 in particle_list])\n",
    "        particle_list = particle_list[np.where(energies < energy_cut[1],True,False)*np.where(energies>energy_cut[0],True,False)]\n",
    "\n",
    "    if len(particle_list) == 0:\n",
    "        if method == \"Sample\":\n",
    "            return [[] for i in range(len(detector_positions))]\n",
    "        else:\n",
    "            return [0.0 for i in range(len(detector_positions))]\n",
    "\n",
    "    rT = np.linalg.norm([transverse_position(p0, detector_positions) for p0 in particle_list], axis=1)\n",
    "\n",
    "    pass_cuts_where = np.transpose(np.where(rT > detector_inner_radius, True, False)*np.where(rT < detector_radius, True, False))\n",
    "#    pass_cuts_where = np.transpose(np.where(rT < detector_radius))\n",
    "\n",
    "    pass_cuts = [particle_list[pass_cuts_where[i]] for i in range(len(pass_cuts_where))]\n",
    "\n",
    "    if method == \"Sample\":\n",
    "        return pass_cuts\n",
    "    elif method == \"Efficiency\":\n",
    "        return [np.sum([p0.get_ids()[\"weight\"] for p0 in pass_cuts[ii]])/np.sum([p0.get_ids()[\"weight\"] for p0 in particle_list]) for ii in range(len(pass_cuts))]\n",
    "    elif method == \"TotalWeight\":\n",
    "        return [np.sum([p0.get_ids()[\"weight\"] for p0 in pass_cuts[ii]]) for ii in range(len(pass_cuts))]"
   ]
  },
  {
   "cell_type": "markdown",
   "metadata": {},
   "source": [
    "## $\\pi^0 \\rightarrow V\\gamma$"
   ]
  },
  {
   "cell_type": "code",
   "execution_count": 9,
   "metadata": {},
   "outputs": [
    {
     "name": "stderr",
     "output_type": "stream",
     "text": [
      "100%|██████████| 4083/4083 [00:01<00:00, 2936.41it/s]\n"
     ]
    }
   ],
   "source": [
    "# pion -> V + gamma\n",
    "#mV_list = np.logspace(-3, np.log10(0.995*m_pi0), 31)\n",
    "mV_list = [0.010]\n",
    "NewShower_pion = [[] for mV in mV_list]\n",
    "nperpion = 5\n",
    "for p0 in tqdm(pion_beam[:,:4]):\n",
    "    r0 = [0, 0, 0]\n",
    "    pdict = {\"PID\":111, \"mass\":m_pi0, \"stability\":\"short-lived\", \"weight\":1/(NPOT*nperpion)}\n",
    "    part = Particle(p0, r0, pdict)\n",
    "\n",
    "    for mVi, mV in enumerate(mV_list):\n",
    "      wg = decay_weight_twobody(part, mV)\n",
    "      V_dict = {\"mass\":mV, \"PID\":4900022,\n",
    "            \"weight\":part.get_ids()[\"weight\"]*wg,\n",
    "            \"parent_PID\":part.get_ids()[\"PID\"], \"parent_ID\":part.get_ids()[\"ID\"],\n",
    "            \"ID\":2*(part.get_ids()[\"ID\"])+1, \"generation_number\":part.get_ids()[\"generation_number\"]+1,\n",
    "            \"generation_process\":process_code}\n",
    "      gamma_dict = {\"mass\":0, \"PID\":22}\n",
    "      for jj in range(nperpion):\n",
    "            V = part.two_body_decay(gamma_dict, V_dict)[1]\n",
    "            NewShower_pion[mVi].append(V)"
   ]
  },
  {
   "cell_type": "code",
   "execution_count": 10,
   "metadata": {},
   "outputs": [
    {
     "name": "stderr",
     "output_type": "stream",
     "text": [
      "100%|██████████| 4083/4083 [00:01<00:00, 2891.37it/s]\n"
     ]
    }
   ],
   "source": [
    "# pion -> V + gamma\n",
    "#mV_list = np.logspace(-3, np.log10(0.995*m_pi0), 31)\n",
    "mV_list = [0.030]\n",
    "NewShower_pion_30MeV = [[] for mV in mV_list]\n",
    "nperpion = 5\n",
    "for p0 in tqdm(pion_beam[:,:4]):\n",
    "    r0 = [0, 0, 0]\n",
    "    pdict = {\"PID\":111, \"mass\":m_pi0, \"stability\":\"short-lived\", \"weight\":1/(NPOT*nperpion)}\n",
    "    part = Particle(p0, r0, pdict)\n",
    "\n",
    "    for mVi, mV in enumerate(mV_list):\n",
    "      wg = decay_weight_twobody(part, mV)\n",
    "      V_dict = {\"mass\":mV, \"PID\":4900022,\n",
    "            \"weight\":part.get_ids()[\"weight\"]*wg,\n",
    "            \"parent_PID\":part.get_ids()[\"PID\"], \"parent_ID\":part.get_ids()[\"ID\"],\n",
    "            \"ID\":2*(part.get_ids()[\"ID\"])+1, \"generation_number\":part.get_ids()[\"generation_number\"]+1,\n",
    "            \"generation_process\":process_code}\n",
    "      gamma_dict = {\"mass\":0, \"PID\":22}\n",
    "      for jj in range(nperpion):\n",
    "            V = part.two_body_decay(gamma_dict, V_dict)[1]\n",
    "            NewShower_pion_30MeV[mVi].append(V)"
   ]
  },
  {
   "cell_type": "code",
   "execution_count": 11,
   "metadata": {},
   "outputs": [
    {
     "name": "stderr",
     "output_type": "stream",
     "text": [
      "100%|██████████| 4083/4083 [00:01<00:00, 2849.52it/s]\n"
     ]
    }
   ],
   "source": [
    "# pion -> V + gamma\n",
    "#mV_list = np.logspace(-3, np.log10(0.995*m_pi0), 31)\n",
    "mV_list = [0.100]\n",
    "NewShower_pion_100MeV = [[] for mV in mV_list]\n",
    "nperpion = 5\n",
    "for p0 in tqdm(pion_beam[:,:4]):\n",
    "    r0 = [0, 0, 0]\n",
    "    pdict = {\"PID\":111, \"mass\":m_pi0, \"stability\":\"short-lived\", \"weight\":1/(NPOT*nperpion)}\n",
    "    part = Particle(p0, r0, pdict)\n",
    "\n",
    "    for mVi, mV in enumerate(mV_list):\n",
    "      wg = decay_weight_twobody(part, mV)\n",
    "      V_dict = {\"mass\":mV, \"PID\":4900022,\n",
    "            \"weight\":part.get_ids()[\"weight\"]*wg,\n",
    "            \"parent_PID\":part.get_ids()[\"PID\"], \"parent_ID\":part.get_ids()[\"ID\"],\n",
    "            \"ID\":2*(part.get_ids()[\"ID\"])+1, \"generation_number\":part.get_ids()[\"generation_number\"]+1,\n",
    "            \"generation_process\":process_code}\n",
    "      gamma_dict = {\"mass\":0, \"PID\":22}\n",
    "      for jj in range(nperpion):\n",
    "            V = part.two_body_decay(gamma_dict, V_dict)[1]\n",
    "            NewShower_pion_100MeV[mVi].append(V)"
   ]
  },
  {
   "cell_type": "markdown",
   "metadata": {},
   "source": [
    "## $K^\\pm\\rightarrow l^{\\pm} \\nu V$"
   ]
  },
  {
   "cell_type": "code",
   "execution_count": 54,
   "metadata": {},
   "outputs": [
    {
     "name": "stderr",
     "output_type": "stream",
     "text": [
      "  0%|          | 0/598 [00:00<?, ?it/s]"
     ]
    },
    {
     "name": "stderr",
     "output_type": "stream",
     "text": [
      "100%|██████████| 598/598 [00:00<00:00, 1538.59it/s]\n"
     ]
    }
   ],
   "source": [
    "# kaon -> mu + V + numu\n",
    "# mV = 10 MeV\n",
    "mV_list = [0.010]\n",
    "NewShower = [[] for mV in mV_list]\n",
    "nperkaon = 5\n",
    "for p0 in tqdm(kaon_beam[:,:4]):\n",
    "    r0 = [0, 0, 0]\n",
    "    pdict = {\"PID\":321, \"mass\":m_kaon_pm, \"stability\":\"short-lived\", \"weight\":1/(NPOT*nperkaon)}\n",
    "    part = Particle(p0, r0, pdict)\n",
    "\n",
    "    for mVi, mV in enumerate(mV_list):\n",
    "      wg = decay_weight(mV, lepton = \"mu\")/(4*np.pi*alpha_em) # g=e*epsilon\n",
    "      V_dict = {\"mass\":mV, \"PID\":4900022,\n",
    "            \"weight\":part.get_ids()[\"weight\"]*wg,\n",
    "            \"parent_PID\":part.get_ids()[\"PID\"], \"parent_ID\":part.get_ids()[\"ID\"],\n",
    "            \"ID\":2*(part.get_ids()[\"ID\"])+1, \"generation_number\":part.get_ids()[\"generation_number\"]+1,\n",
    "            \"generation_process\":process_code}\n",
    "      lepton_dict = {\"mass\":0.105, \"PID\":13}\n",
    "      neutrino_dict = {\"mass\":0.0, \"PID\":14}\n",
    "      for jj in range(nperkaon):\n",
    "            V = part.three_body_decay(lepton_dict, neutrino_dict, V_dict)[2]\n",
    "            NewShower[mVi].append(V)"
   ]
  },
  {
   "cell_type": "code",
   "execution_count": 55,
   "metadata": {},
   "outputs": [
    {
     "name": "stderr",
     "output_type": "stream",
     "text": [
      "100%|██████████| 598/598 [00:00<00:00, 1528.14it/s]\n"
     ]
    }
   ],
   "source": [
    "# kaon -> mu + V + numu\n",
    "# mV = 30 MeV\n",
    "mV_list = [0.030]\n",
    "NewShower_30MeV = [[] for mV in mV_list]\n",
    "nperkaon = 5\n",
    "for p0 in tqdm(kaon_beam[:,:4]):\n",
    "    r0 = [0, 0, 0]\n",
    "    pdict = {\"PID\":321, \"mass\":m_kaon_pm, \"stability\":\"short-lived\", \"weight\":1/(NPOT*nperkaon)}\n",
    "    part = Particle(p0, r0, pdict)\n",
    "\n",
    "    for mVi, mV in enumerate(mV_list):\n",
    "      wg = decay_weight(mV, lepton = \"mu\")/(4*np.pi*alpha_em) # g=e*epsilon\n",
    "      V_dict = {\"mass\":mV, \"PID\":4900022,\n",
    "            \"weight\":part.get_ids()[\"weight\"]*wg,\n",
    "            \"parent_PID\":part.get_ids()[\"PID\"], \"parent_ID\":part.get_ids()[\"ID\"],\n",
    "            \"ID\":2*(part.get_ids()[\"ID\"])+1, \"generation_number\":part.get_ids()[\"generation_number\"]+1,\n",
    "            \"generation_process\":process_code}\n",
    "      lepton_dict = {\"mass\":0.105, \"PID\":13}\n",
    "      neutrino_dict = {\"mass\":0.0, \"PID\":14}\n",
    "      for jj in range(nperkaon):\n",
    "            V = part.three_body_decay(lepton_dict, neutrino_dict, V_dict)[2]\n",
    "            NewShower_30MeV[mVi].append(V)"
   ]
  },
  {
   "cell_type": "code",
   "execution_count": 56,
   "metadata": {},
   "outputs": [
    {
     "name": "stderr",
     "output_type": "stream",
     "text": [
      "  0%|          | 0/598 [00:00<?, ?it/s]"
     ]
    },
    {
     "name": "stderr",
     "output_type": "stream",
     "text": [
      "100%|██████████| 598/598 [00:00<00:00, 1046.34it/s]\n"
     ]
    }
   ],
   "source": [
    "# kaon -> mu + V + numu\n",
    "# mV = 100 MeV\n",
    "mV_list = [0.100]\n",
    "NewShower_100MeV = [[] for mV in mV_list]\n",
    "nperkaon = 5\n",
    "for p0 in tqdm(kaon_beam[:,:4]):\n",
    "    r0 = [0, 0, 0]\n",
    "    pdict = {\"PID\":321, \"mass\":m_kaon_pm, \"stability\":\"short-lived\", \"weight\":1/(NPOT*nperkaon)}\n",
    "    part = Particle(p0, r0, pdict)\n",
    "\n",
    "    for mVi, mV in enumerate(mV_list):\n",
    "      wg = decay_weight(mV, lepton = \"mu\")/(4*np.pi*alpha_em) # g=e*epsilon\n",
    "      V_dict = {\"mass\":mV, \"PID\":4900022,\n",
    "            \"weight\":part.get_ids()[\"weight\"]*wg,\n",
    "            \"parent_PID\":part.get_ids()[\"PID\"], \"parent_ID\":part.get_ids()[\"ID\"],\n",
    "            \"ID\":2*(part.get_ids()[\"ID\"])+1, \"generation_number\":part.get_ids()[\"generation_number\"]+1,\n",
    "            \"generation_process\":process_code}\n",
    "      lepton_dict = {\"mass\":0.105, \"PID\":13}\n",
    "      neutrino_dict = {\"mass\":0.0, \"PID\":14}\n",
    "      for jj in range(nperkaon):\n",
    "            V = part.three_body_decay(lepton_dict, neutrino_dict, V_dict)[2]\n",
    "            NewShower_100MeV[mVi].append(V)"
   ]
  },
  {
   "cell_type": "code",
   "execution_count": 57,
   "metadata": {},
   "outputs": [
    {
     "name": "stderr",
     "output_type": "stream",
     "text": [
      "100%|██████████| 598/598 [00:00<00:00, 1407.92it/s]\n"
     ]
    }
   ],
   "source": [
    "# kaon -> mu + V + numu\n",
    "# mV = 300 MeV\n",
    "mV_list = [0.300]\n",
    "NewShower_300MeV = [[] for mV in mV_list]\n",
    "nperkaon = 5\n",
    "for p0 in tqdm(kaon_beam[:,:4]):\n",
    "    r0 = [0, 0, 0]\n",
    "    pdict = {\"PID\":321, \"mass\":m_kaon_pm, \"stability\":\"short-lived\", \"weight\":1/(NPOT*nperkaon)}\n",
    "    part = Particle(p0, r0, pdict)\n",
    "\n",
    "    for mVi, mV in enumerate(mV_list):\n",
    "      wg = decay_weight(mV, lepton = \"mu\")/(4*np.pi*alpha_em) # g=e*epsilon\n",
    "      V_dict = {\"mass\":mV, \"PID\":4900022,\n",
    "            \"weight\":part.get_ids()[\"weight\"]*wg,\n",
    "            \"parent_PID\":part.get_ids()[\"PID\"], \"parent_ID\":part.get_ids()[\"ID\"],\n",
    "            \"ID\":2*(part.get_ids()[\"ID\"])+1, \"generation_number\":part.get_ids()[\"generation_number\"]+1,\n",
    "            \"generation_process\":process_code}\n",
    "      lepton_dict = {\"mass\":0.105, \"PID\":13}\n",
    "      neutrino_dict = {\"mass\":0.0, \"PID\":14}\n",
    "      for jj in range(nperkaon):\n",
    "            V = part.three_body_decay(lepton_dict, neutrino_dict, V_dict)[2]\n",
    "            NewShower_300MeV[mVi].append(V)"
   ]
  },
  {
   "cell_type": "markdown",
   "metadata": {},
   "source": [
    "## $\\eta \\rightarrow V\\gamma$"
   ]
  },
  {
   "cell_type": "code",
   "execution_count": 16,
   "metadata": {},
   "outputs": [
    {
     "name": "stderr",
     "output_type": "stream",
     "text": [
      "100%|██████████| 455/455 [00:00<00:00, 3029.92it/s]\n"
     ]
    }
   ],
   "source": [
    "\n",
    "NewShower_eta_300MeV = [[] for mV in mV_list]\n",
    "npereta = 5\n",
    "mV_list_eta = [0.300]\n",
    "\n",
    "for p0 in tqdm(eta_beam[:,:4]):\n",
    "    r0 = [0, 0, 0]\n",
    "    pdict = {\"PID\":221, \"mass\":m_eta, \"stability\":\"short-lived\", \"weight\":1/(NPOT*npereta)}\n",
    "    part = Particle(p0, r0, pdict)\n",
    "\n",
    "    for mVi, mV in enumerate(mV_list_eta):\n",
    "      wg = decay_weight_twobody(part, mV)\n",
    "      V_dict = {\"mass\":mV, \"PID\":4900022,\n",
    "            \"weight\":part.get_ids()[\"weight\"]*wg,\n",
    "            \"parent_PID\":part.get_ids()[\"PID\"], \"parent_ID\":part.get_ids()[\"ID\"],\n",
    "            \"ID\":2*(part.get_ids()[\"ID\"])+1, \"generation_number\":part.get_ids()[\"generation_number\"]+1,\n",
    "            \"generation_process\":process_code}\n",
    "      gamma_dict = {\"mass\":0, \"PID\":22}\n",
    "      for jj in range(npereta):\n",
    "            V = part.two_body_decay(gamma_dict, V_dict)[1]\n",
    "            NewShower_eta_300MeV[mVi].append(V)"
   ]
  },
  {
   "cell_type": "code",
   "execution_count": 17,
   "metadata": {},
   "outputs": [
    {
     "name": "stderr",
     "output_type": "stream",
     "text": [
      "100%|██████████| 455/455 [00:00<00:00, 1811.96it/s]\n"
     ]
    }
   ],
   "source": [
    "NewShower_eta_100MeV = [[] for mV in mV_list]\n",
    "npereta = 5\n",
    "mV_list_eta = [0.100]\n",
    "\n",
    "for p0 in tqdm(eta_beam[:,:4]):\n",
    "    r0 = [0, 0, 0]\n",
    "    pdict = {\"PID\":221, \"mass\":m_eta, \"stability\":\"short-lived\", \"weight\":1/(NPOT*npereta)}\n",
    "    part = Particle(p0, r0, pdict)\n",
    "\n",
    "    for mVi, mV in enumerate(mV_list_eta):\n",
    "      wg = decay_weight_twobody(part, mV)\n",
    "      V_dict = {\"mass\":mV, \"PID\":4900022,\n",
    "            \"weight\":part.get_ids()[\"weight\"]*wg,\n",
    "            \"parent_PID\":part.get_ids()[\"PID\"], \"parent_ID\":part.get_ids()[\"ID\"],\n",
    "            \"ID\":2*(part.get_ids()[\"ID\"])+1, \"generation_number\":part.get_ids()[\"generation_number\"]+1,\n",
    "            \"generation_process\":process_code}\n",
    "      gamma_dict = {\"mass\":0, \"PID\":22}\n",
    "      for jj in range(npereta):\n",
    "            V = part.two_body_decay(gamma_dict, V_dict)[1]\n",
    "            NewShower_eta_100MeV[mVi].append(V)"
   ]
  },
  {
   "cell_type": "code",
   "execution_count": 18,
   "metadata": {},
   "outputs": [
    {
     "name": "stdout",
     "output_type": "stream",
     "text": [
      "0.7111122852240653 0.27018633277426607\n"
     ]
    }
   ],
   "source": [
    "p0 = eta_beam[0]\n",
    "r0 = [0, 0, 0]\n",
    "pdict = {\"PID\":221, \"mass\":m_eta, \"stability\":\"short-lived\", \"weight\":1/(NPOT*npereta)}\n",
    "part = Particle(p0, r0, pdict)\n",
    "print(decay_weight_twobody(part, 0.100), decay_weight_twobody(part, 0.300))"
   ]
  },
  {
   "cell_type": "markdown",
   "metadata": {},
   "source": [
    "## Dark photon decay"
   ]
  },
  {
   "cell_type": "code",
   "execution_count": 19,
   "metadata": {},
   "outputs": [],
   "source": [
    "# leptophilic model (kinetic mixing / coupling) ^2. 1912.07622 eqn (5.1)\n",
    "from scipy.interpolate import interp1d\n",
    "lelmuX, lelmuY = np.transpose(np.loadtxt(\"./kineticmixing_lelmu.dat\"))\n",
    "leltauX, leltauY = np.transpose(np.loadtxt(\"./kineticmixing_leltau.dat\"))\n",
    "lmultauX, lmultauY = np.transpose(np.loadtxt(\"./kineticmixing_lmultau.dat\"))\n",
    "\n",
    "lelmu = interp1d(lelmuX, lelmuY, kind=\"cubic\")\n",
    "leltau = interp1d(leltauX, leltauY, kind=\"cubic\")\n",
    "lmultau = interp1d(lmultauX, lmultauY, kind=\"cubic\")"
   ]
  },
  {
   "cell_type": "code",
   "execution_count": 20,
   "metadata": {},
   "outputs": [],
   "source": [
    "#m_electron = 0.000510998950\n",
    "def decay_lifetime(mA, epsilon):\n",
    "    Gamma = 1/3.0*alpha_em*epsilon**2*mA*np.sqrt(1.0 - 4*m_electron**2/mA**2)*(1.0 + 2*m_electron**2/mA**2)\n",
    "    #convert Gamma to lifetime (in m)\n",
    "    return hbarc/Gamma/100.0\n",
    "\n",
    "def decay_lifetime_g(mA, g):\n",
    "    Gammanu = g**2*mA/(12.0*np.pi)\n",
    "    Gammall = g**2*mA/(12.0*np.pi)*np.sqrt(1.0 - 4*m_electron**2/mA**2)*(1.0 + 2*m_electron**2/mA**2)\n",
    "    #convert Gamma to lifetime (in m)\n",
    "    return hbarc/(Gammanu+Gammall)/100.0\n",
    "\n",
    "def Br_ee(mA, g):\n",
    "    Gammanu = g**2*mA/(12.0*np.pi)\n",
    "    Gammall = g**2*mA/(12.0*np.pi)*np.sqrt(1.0 - 4*m_electron**2/mA**2)*(1.0 + 2*m_electron**2/mA**2)\n",
    "    return Gammall/(Gammanu+Gammall)\n",
    "\n",
    "def decay_lifetime_g_mt(mA, g):\n",
    "    Gammanu = g**2*mA/(12.0*np.pi)\n",
    "    epsq = lmultau(mA)*g**2\n",
    "    Gammall = 1/3.0*alpha_em*epsq*mA*np.sqrt(1.0 - 4*m_electron**2/mA**2)*(1.0 + 2*m_electron**2/mA**2)\n",
    "    #convert Gamma to lifetime (in m)\n",
    "    return hbarc/(Gammanu+Gammall)/100.0\n",
    "\n",
    "def Br_ee_mt(mA, g):\n",
    "    Gammanu = g**2*mA/(12.0*np.pi)\n",
    "    epsq = lmultau(mA)*g**2\n",
    "    Gammall = 1/3.0*alpha_em*epsq*mA*np.sqrt(1.0 - 4*m_electron**2/mA**2)*(1.0 + 2*m_electron**2/mA**2)\n",
    "    #convert Gamma to lifetime (in m)\n",
    "    return Gammall/(Gammanu+Gammall)\n"
   ]
  },
  {
   "cell_type": "code",
   "execution_count": 21,
   "metadata": {},
   "outputs": [],
   "source": [
    "RR = np.loadtxt(\"RRatio.dat\")\n",
    "Rfn = interp1d(RR.T[0], RR.T[1], fill_value=(0.0, 0.0))"
   ]
  },
  {
   "cell_type": "code",
   "execution_count": 22,
   "metadata": {},
   "outputs": [],
   "source": [
    "m_had_min = 0.140\n",
    "def lifetime_brvis(mA, coupling, model=\"DarkPhoton\"):\n",
    "    if model == \"DarkPhoton\":\n",
    "        eps = coupling\n",
    "        g_l = eps*np.sqrt(4*np.pi*alpha_em)\n",
    "\n",
    "        gamma_visible = [1.0e-30]\n",
    "        gamma_invisible = [1.0e-30]\n",
    "        lepton_decay_channels = [m_electron, m_muon, m_tau]\n",
    "        \n",
    "        for ml in lepton_decay_channels:\n",
    "            if mA > 2.0*ml:\n",
    "                gamma_visible.append(1/3*alpha_em*eps**2*mA*np.sqrt(1.0 - 4*ml**2/mA**2)*(1.0 + 2*ml**2/mA**2))\n",
    "        if mA > 2.0*m_had_min:\n",
    "            gamma_visible.append(eps**2*mA/(8*np.pi)*Rfn(mA))\n",
    "    elif model == \"LeLmu\" or model == \"LeLtau\" or model == \"LmuLtau\":\n",
    "        g_l = coupling\n",
    "        epssq = lelmu(mA)*g_l**2\n",
    "\n",
    "        gamma_visible = [1.0e-30]\n",
    "        gamma_invisible = [1.0e-30]\n",
    "\n",
    "        if model == \"LeLmu\":\n",
    "            lepton_decay_channels_direct = [m_electron, m_muon]\n",
    "            lepton_decay_channels_indirect = [m_tau]\n",
    "        elif model == \"LeLtau\":\n",
    "            lepton_decay_channels_direct = [m_electron, m_tau]\n",
    "            lepton_decay_channels_indirect = [m_muon]\n",
    "        elif model == \"LmuLtau\":\n",
    "            lepton_decay_channels_direct = [m_muon, m_tau]\n",
    "            lepton_decay_channels_indirect = [m_electron]\n",
    "\n",
    "        for ml in lepton_decay_channels_direct:\n",
    "            if mA > 2.0*ml:\n",
    "                gamma_visible.append(g_l**2*mA/(12.0*np.pi)*np.sqrt(1.0 - 4*ml**2/mA**2)*(1.0 + 2*ml**2/mA**2))\n",
    "        for ml in lepton_decay_channels_indirect:\n",
    "            if mA > 2.0*ml:\n",
    "                gamma_visible.append(1/3*alpha_em*epssq*mA*np.sqrt(1.0 - 4*ml**2/mA**2)*(1.0 + 2*ml**2/mA**2))\n",
    "\n",
    "        gamma_invisible.append(g_l**2*mA/(12.0*np.pi))\n",
    "\n",
    "    lifetime = hbarc/(np.sum(gamma_invisible)+np.sum(gamma_visible))/100.0\n",
    "    br_vis = np.sum(gamma_visible)/(np.sum(gamma_invisible)+np.sum(gamma_visible))\n",
    "\n",
    "    return lifetime, br_vis"
   ]
  },
  {
   "cell_type": "code",
   "execution_count": 92,
   "metadata": {},
   "outputs": [],
   "source": [
    "def prob_decay(particle, detector_front, detector_length, ctau0):\n",
    "    if particle.get_p0()[2] < 0.0:\n",
    "        return 0.0\n",
    "    dist0 = np.linalg.norm(detector_front - particle.get_r0())\n",
    "    E = particle.get_p0()[0]\n",
    "    gamma = E/particle.get_ids()['mass']\n",
    "    beta = np.sqrt(1 - 1/gamma**2)\n",
    "    ctau = ctau0*gamma*beta\n",
    "\n",
    "    return np.exp(-dist0/ctau)*(1 - np.exp(-detector_length/ctau))\n",
    "\n",
    "def prob_decay_target(particle, target_length, ctau0):\n",
    "    if particle.get_p0()[2] < 0.0:\n",
    "        return 0.0\n",
    "    E = particle.get_p0()[0]\n",
    "    gamma = E/particle.get_ids()['mass']\n",
    "    beta = np.sqrt(1 - 1/gamma**2)\n",
    "    ctau = ctau0*gamma*beta\n",
    "\n",
    "    return 1 - np.exp(-target_length/ctau)\n",
    "\n",
    "def prob_interaction(particle, target_length, interaction_length):\n",
    "    if particle.get_p0()[2] < 0.0:\n",
    "        return 0.0\n",
    "    return 1 - np.exp(-target_length/interaction_length)"
   ]
  },
  {
   "cell_type": "code",
   "execution_count": 24,
   "metadata": {},
   "outputs": [],
   "source": [
    "samples_EM_10MeV = np.load(PETITE_home_dir+dictionary_dir+\"SHiPParticles_1e3POT.npy\", allow_pickle=True)\n",
    "samples_EM_300MeV = np.load(PETITE_home_dir+dictionary_dir+\"SHiPParticles_1000POT_mV300MeV.npy\", allow_pickle=True)\n",
    "samples_EM_30MeV = np.load(PETITE_home_dir+dictionary_dir+\"SHiPParticles_1000POT_mV30MeV.npy\", allow_pickle=True)\n",
    "samples_EM_100MeV = np.load(PETITE_home_dir+dictionary_dir+\"SHiPParticles_1000POT_mV100MeV.npy\", allow_pickle=True)"
   ]
  },
  {
   "cell_type": "code",
   "execution_count": 25,
   "metadata": {},
   "outputs": [
    {
     "name": "stderr",
     "output_type": "stream",
     "text": [
      "100%|██████████| 3653443/3653443 [00:20<00:00, 179307.81it/s]\n",
      "100%|██████████| 1481397/1481397 [00:10<00:00, 139394.25it/s]\n",
      "100%|██████████| 613790/613790 [00:02<00:00, 223390.83it/s]\n"
     ]
    }
   ],
   "source": [
    "samples_30MeV_DarkBrem0 = []\n",
    "samples_30MeV_DarkComp0 = []\n",
    "samples_30MeV_DarkAnn0 = []\n",
    "for p in tqdm(samples_EM_30MeV):\n",
    "    if p.get_ids()[\"generation_process\"] == 'DarkBrem':\n",
    "        samples_30MeV_DarkBrem0.append(p)\n",
    "    elif p.get_ids()[\"generation_process\"] == 'DarkComp':\n",
    "        samples_30MeV_DarkComp0.append(p)\n",
    "    elif p.get_ids()[\"generation_process\"] == 'DarkAnn':\n",
    "        samples_30MeV_DarkAnn0.append(p)\n",
    "\n",
    "samples_100MeV_DarkBrem0 = []\n",
    "samples_100MeV_DarkComp0 = []\n",
    "samples_100MeV_DarkAnn0 = []\n",
    "for p in tqdm(samples_EM_100MeV):\n",
    "    if p.get_ids()[\"generation_process\"] == 'DarkBrem':\n",
    "        samples_100MeV_DarkBrem0.append(p)\n",
    "    elif p.get_ids()[\"generation_process\"] == 'DarkComp':\n",
    "        samples_100MeV_DarkComp0.append(p)\n",
    "    elif p.get_ids()[\"generation_process\"] == 'DarkAnn':\n",
    "        samples_100MeV_DarkAnn0.append(p)\n",
    "\n",
    "samples_300MeV_DarkBrem0 = []\n",
    "samples_300MeV_DarkComp0 = []\n",
    "samples_300MeV_DarkAnn0 = []\n",
    "for p in tqdm(samples_EM_300MeV):\n",
    "    if p.get_ids()[\"generation_process\"] == 'DarkBrem':\n",
    "        samples_300MeV_DarkBrem0.append(p)\n",
    "    elif p.get_ids()[\"generation_process\"] == 'DarkComp':\n",
    "        samples_300MeV_DarkComp0.append(p)\n",
    "    elif p.get_ids()[\"generation_process\"] == 'DarkAnn':\n",
    "        samples_300MeV_DarkAnn0.append(p)"
   ]
  },
  {
   "cell_type": "code",
   "execution_count": 26,
   "metadata": {},
   "outputs": [],
   "source": [
    "samples_DarkBrem = np.concatenate([samples_EM_10MeV[()]['DarkBrem'][11], samples_EM_10MeV[()]['DarkBrem'][-11]])\n",
    "samples_DarkAnn = np.concatenate([samples_EM_10MeV[()]['DarkAnn'][-11]])\n",
    "samples_DarkComp = np.concatenate([samples_EM_10MeV[()]['DarkComp'][22]])"
   ]
  },
  {
   "cell_type": "code",
   "execution_count": 58,
   "metadata": {},
   "outputs": [],
   "source": [
    "sample_10MeV = detector_cut(NewShower[0], [120.0], 4.0, method=\"Sample\", energy_cut=None)[0]\n",
    "sample_10MeV_pion = detector_cut(NewShower_pion[0], [120.0], 4.0, method=\"Sample\", energy_cut=None)[0]\n",
    "sample_10MeV_DarkBrem = detector_cut(samples_DarkBrem, [120.0], 4.0, method=\"Sample\", energy_cut=None)[0]\n",
    "sample_10MeV_DarkAnn = detector_cut(samples_DarkAnn, [120.0], 4.0, method=\"Sample\", energy_cut=None)[0]\n",
    "sample_10MeV_DarkComp = detector_cut(samples_DarkComp, [120.0], 4.0, method=\"Sample\", energy_cut=None)[0]"
   ]
  },
  {
   "cell_type": "code",
   "execution_count": 59,
   "metadata": {},
   "outputs": [],
   "source": [
    "sample_30MeV = detector_cut(NewShower_30MeV[0], [120.0], 4.0, method=\"Sample\", energy_cut=None)[0]\n",
    "sample_30MeV_pion = detector_cut(NewShower_pion_30MeV[0], [120.0], 4.0, method=\"Sample\", energy_cut=None)[0]\n",
    "sample_30MeV_DarkBrem = detector_cut(samples_30MeV_DarkBrem0, [120.0], 4.0, method=\"Sample\", energy_cut=None)[0]\n",
    "sample_30MeV_DarkAnn = detector_cut(samples_30MeV_DarkComp0, [120.0], 4.0, method=\"Sample\", energy_cut=None)[0]\n",
    "sample_30MeV_DarkComp = detector_cut(samples_30MeV_DarkAnn0, [120.0], 4.0, method=\"Sample\", energy_cut=None)[0]"
   ]
  },
  {
   "cell_type": "code",
   "execution_count": 60,
   "metadata": {},
   "outputs": [],
   "source": [
    "sample_100MeV = detector_cut(NewShower_100MeV[0], [120.0], 4.0, method=\"Sample\", energy_cut=None)[0]\n",
    "# combine pion and eta for mass above 100 MeV\n",
    "sample_100MeV_pion = np.concatenate([detector_cut(NewShower_100MeV[0], [120.0], 4.0, method=\"Sample\", energy_cut=None)[0], detector_cut(NewShower_eta_100MeV[0], [120.0], 4.0, method=\"Sample\", energy_cut=None)[0]])\n",
    "sample_100MeV_DarkBrem = detector_cut(samples_100MeV_DarkBrem0, [120.0], 4.0, method=\"Sample\", energy_cut=None)[0]\n",
    "sample_100MeV_DarkAnn = detector_cut(samples_100MeV_DarkComp0, [120.0], 4.0, method=\"Sample\", energy_cut=None)[0]\n",
    "sample_100MeV_DarkComp = detector_cut(samples_100MeV_DarkAnn0, [120.0], 4.0, method=\"Sample\", energy_cut=None)[0]"
   ]
  },
  {
   "cell_type": "code",
   "execution_count": 61,
   "metadata": {},
   "outputs": [],
   "source": [
    "sample_300MeV = detector_cut(NewShower_300MeV[0], [120.0], 4.0, method=\"Sample\", energy_cut=None)[0]\n",
    "sample_300MeV_eta = detector_cut(NewShower_eta_300MeV[0], [120.0], 4.0, method=\"Sample\", energy_cut=None)[0]\n",
    "sample_300MeV_DarkBrem = detector_cut(samples_300MeV_DarkBrem0, [120.0], 4.0, method=\"Sample\", energy_cut=None)[0]\n",
    "sample_300MeV_DarkAnn = detector_cut(samples_300MeV_DarkComp0, [120.0], 4.0, method=\"Sample\", energy_cut=None)[0]\n",
    "sample_300MeV_DarkComp = detector_cut(samples_300MeV_DarkAnn0, [120.0], 4.0, method=\"Sample\", energy_cut=None)[0]"
   ]
  },
  {
   "cell_type": "code",
   "execution_count": 48,
   "metadata": {},
   "outputs": [],
   "source": [
    "SHiP_Start = [60.0, 0.0, 0.]\n",
    "SHiP_Length = 50.0\n",
    "SHIP_POT = 2.0e20\n",
    "\n",
    "def return_event_rates(sample_list, scan_parameter, model=\"DarkPhoton\", POT=SHIP_POT):\n",
    "    kaon_decay, neutral_meson_decay, dark_brem, dark_comp, dark_ann = sample_list\n",
    "    mA = neutral_meson_decay[0].get_ids()[\"mass\"]\n",
    "\n",
    "    lifetime, br_vis = lifetime_brvis(mA, scan_parameter, model=model)\n",
    "\n",
    "    decay_probs_all = [[prob_decay(p0, SHiP_Start, SHiP_Length, lifetime) for p0 in sample] for sample in sample_list]\n",
    "\n",
    "    if model == \"DarkPhoton\":\n",
    "        prefactors = POT*br_vis*np.array([scan_parameter**2, scan_parameter**2, scan_parameter**2, scan_parameter**2, scan_parameter**2])\n",
    "    elif model == \"LeLmu\":\n",
    "        epssq = lelmu(mA)*scan_parameter**2\n",
    "        prefactors = POT*br_vis*np.array([epssq, epssq, (scan_parameter/np.sqrt(4.0*np.pi*alpha_em))**2, (scan_parameter/np.sqrt(4.0*np.pi*alpha_em))**2, (scan_parameter/np.sqrt(4.0*np.pi*alpha_em))**2])\n",
    "    elif model == \"LeLtau\":\n",
    "        epssq = leltau(mA)*scan_parameter**2\n",
    "        prefactors = POT*br_vis*np.array([epssq, epssq, (scan_parameter/np.sqrt(4.0*np.pi*alpha_em))**2, (scan_parameter/np.sqrt(4.0*np.pi*alpha_em))**2, (scan_parameter/np.sqrt(4.0*np.pi*alpha_em))**2])\n",
    "    elif model == \"LmuLtau\":\n",
    "        epssq = lmultau(mA)*scan_parameter**2\n",
    "        prefactors = POT*br_vis*np.array([epssq, epssq, epssq, epssq, epssq])\n",
    "\n",
    "    event_rates = [np.sum([p0.get_ids()[\"weight\"]*decay_probs_all[ii][jj] for jj, p0 in enumerate(sample)])*prefactors[ii] for ii, sample in enumerate(sample_list)]\n",
    "    return event_rates"
   ]
  },
  {
   "cell_type": "code",
   "execution_count": 62,
   "metadata": {},
   "outputs": [
    {
     "name": "stdout",
     "output_type": "stream",
     "text": [
      "0.0018379833973095367\n"
     ]
    }
   ],
   "source": [
    "print(sample_10MeV[0].get_ids()[\"weight\"])"
   ]
  },
  {
   "cell_type": "code",
   "execution_count": 63,
   "metadata": {},
   "outputs": [],
   "source": [
    "er0 = return_event_rates([sample_10MeV, sample_10MeV_pion, sample_10MeV_DarkBrem, sample_10MeV_DarkComp, sample_10MeV_DarkAnn], 1e-7)"
   ]
  },
  {
   "cell_type": "code",
   "execution_count": 64,
   "metadata": {},
   "outputs": [
    {
     "name": "stdout",
     "output_type": "stream",
     "text": [
      "[183.8753453234088, 355.1264451387937, 797.2728342780091, 1559.3662799607164, 80250.3800387206]\n"
     ]
    }
   ],
   "source": [
    "print(er0)"
   ]
  },
  {
   "cell_type": "code",
   "execution_count": 65,
   "metadata": {},
   "outputs": [
    {
     "name": "stderr",
     "output_type": "stream",
     "text": [
      "100%|██████████| 141/141 [15:35<00:00,  6.64s/it]\n"
     ]
    }
   ],
   "source": [
    "epsilon_vec = np.logspace(-10, -3, 141)\n",
    "er_DarkPhoton = np.array([return_event_rates([sample_10MeV, sample_10MeV_pion, sample_10MeV_DarkBrem, sample_10MeV_DarkComp, sample_10MeV_DarkAnn], eps) for eps in tqdm(epsilon_vec)])"
   ]
  },
  {
   "cell_type": "code",
   "execution_count": 66,
   "metadata": {},
   "outputs": [
    {
     "name": "stderr",
     "output_type": "stream",
     "text": [
      "100%|██████████| 121/121 [13:25<00:00,  6.65s/it]\n",
      "100%|██████████| 121/121 [13:09<00:00,  6.52s/it]\n",
      "100%|██████████| 121/121 [13:09<00:00,  6.53s/it]\n"
     ]
    }
   ],
   "source": [
    "g_vec = np.logspace(-10, -4, 121)\n",
    "er_LeLmu = np.array([return_event_rates([sample_10MeV, sample_10MeV_pion, sample_10MeV_DarkBrem, sample_10MeV_DarkComp, sample_10MeV_DarkAnn], g, model=\"LeLmu\") for g in tqdm(g_vec)])\n",
    "er_LeLtau = np.array([return_event_rates([sample_10MeV, sample_10MeV_pion, sample_10MeV_DarkBrem, sample_10MeV_DarkComp, sample_10MeV_DarkAnn], g, model=\"LeLtau\") for g in tqdm(g_vec)])\n",
    "er_LmuLtau = np.array([return_event_rates([sample_10MeV, sample_10MeV_pion, sample_10MeV_DarkBrem, sample_10MeV_DarkComp, sample_10MeV_DarkAnn], g, model=\"LmuLtau\") for g in tqdm(g_vec)])"
   ]
  },
  {
   "cell_type": "code",
   "execution_count": 82,
   "metadata": {},
   "outputs": [
    {
     "data": {
      "image/png": "[encoded data removed]",
      "text/plain": [
       "<Figure size 1728x288 with 4 Axes>"
      ]
     },
     "metadata": {
      "needs_background": "light"
     },
     "output_type": "display_data"
    }
   ],
   "source": [
    "figwid = 24.0\n",
    "fighei = 4\n",
    "wwspace = 0.1\n",
    "\n",
    "fig, axes = plt.subplots(1, 4, figsize=(figwid, fighei))\n",
    "\n",
    "fig.subplots_adjust(wspace=wwspace)\n",
    "\n",
    "ax = axes[0]\n",
    "ax.plot(np.sqrt(4.0*np.pi*alpha_em)*epsilon_vec, er_DarkPhoton[:,0], color='brown', lw=2, label=r'$K^\\pm\\ \\mathrm{Decay}$')\n",
    "ax.plot(np.sqrt(4.0*np.pi*alpha_em)*epsilon_vec, er_DarkPhoton[:,1], color='dodgerblue', lw=2, label=r'$\\pi^0\\ \\mathrm{Decay}$')\n",
    "ax.plot(np.sqrt(4.0*np.pi*alpha_em)*epsilon_vec, er_DarkPhoton[:,2], color='coral', lw=2, label=r'$\\mathrm{Dark\\ Brem.}$')\n",
    "ax.plot(np.sqrt(4.0*np.pi*alpha_em)*epsilon_vec, er_DarkPhoton[:,4], color='mediumseagreen', lw=2, label=r'$\\mathrm{Dark\\ Ann.}$')\n",
    "ax.plot(np.sqrt(4.0*np.pi*alpha_em)*epsilon_vec, er_DarkPhoton[:,3], color='mediumpurple', lw=2, label=r'$\\mathrm{Dark\\ Comp.}$')\n",
    "ax.plot(np.sqrt(4.0*np.pi*alpha_em)*epsilon_vec, np.sum(er_DarkPhoton, axis=1), color='k', lw=2, alpha=0.6, label=r\"$\\mathrm{Total}$\")\n",
    "ax.set_xscale('log')\n",
    "ax.set_yscale('log')\n",
    "ax.set_ylim(1e-3, 1e12)\n",
    "ax.legend(loc='best', fontsize=8, framealpha=1.0, title=r\"$\\mathrm{Dark\\ photon,\\ }m_V = 10\\ \\mathrm{MeV}$\", title_fontsize=10)\n",
    "ax.axhline(10.0, lw=1, ls='--', color='k')\n",
    "ax.set_xlabel(r\"$e\\varepsilon$\", fontsize=16)\n",
    "ax.set_ylabel(r\"$\\mathrm{Evt.\\ rate\\ (SHiP),\\ }2\\times 10^{20}\\ \\mathrm{POT}$\", fontsize=16)\n",
    "\n",
    "ax = axes[1]\n",
    "ax.plot(g_vec, er_LeLmu[:,0], color='brown', lw=2, label=r'$K^\\pm\\ \\mathrm{Decay}$')\n",
    "ax.plot(g_vec, er_LeLmu[:,1], color='dodgerblue', lw=2, label=r'$\\pi^0\\ \\mathrm{Decay}$')\n",
    "ax.plot(g_vec, er_LeLmu[:,2], color='coral', lw=2, label=r'$\\mathrm{Dark\\ Brem.}$')\n",
    "ax.plot(g_vec, er_LeLmu[:,4], color='mediumseagreen', lw=2, label=r'$\\mathrm{Dark\\ Ann.}$')\n",
    "ax.plot(g_vec, er_LeLmu[:,3], color='mediumpurple', lw=2, label=r'$\\mathrm{Dark\\ Comp.}$')\n",
    "ax.plot(g_vec, np.sum(er_LeLmu, axis=1), color='k', lw=2, alpha=0.6, label=r\"$\\mathrm{Total}$\")\n",
    "ax.set_xscale('log')\n",
    "ax.set_yscale('log')\n",
    "ax.set_ylim(1e-3, 1e12)\n",
    "ax.legend(loc='best', fontsize=8, framealpha=1.0, title=r\"$L_e - L_\\mu,\\ m_V = 10\\ \\mathrm{MeV}$\", title_fontsize=10)\n",
    "ax.axhline(10.0, lw=1, ls='--', color='k')\n",
    "ax.set_xlabel(r\"$g_{e\\mu}$\", fontsize=16)\n",
    "#ax.set_ylabel(r\"$\\mathrm{Evt.\\ rate\\ (SHiP),\\ }2\\times 10^{20}\\ \\mathrm{POT}$\", fontsize=16)\n",
    "\n",
    "\n",
    "ax = axes[2]\n",
    "ax.plot(g_vec, er_LeLtau[:,0], color='brown', lw=2, label=r'$K^\\pm\\ \\mathrm{Decay}$')\n",
    "ax.plot(g_vec, er_LeLtau[:,1], color='dodgerblue', lw=2, label=r'$\\pi^0\\ \\mathrm{Decay}$')\n",
    "ax.plot(g_vec, er_LeLtau[:,2], color='coral', lw=2, label=r'$\\mathrm{Dark\\ Brem.}$')\n",
    "ax.plot(g_vec, er_LeLtau[:,4], color='mediumseagreen', lw=2, label=r'$\\mathrm{Dark\\ Ann.}$')\n",
    "ax.plot(g_vec, er_LeLtau[:,3], color='mediumpurple', lw=2, label=r'$\\mathrm{Dark\\ Comp.}$')\n",
    "ax.plot(g_vec, np.sum(er_LeLtau, axis=1), color='k', lw=2, alpha=0.6, label=r\"$\\mathrm{Total}$\")\n",
    "ax.set_xscale('log')\n",
    "ax.set_yscale('log')\n",
    "ax.set_ylim(1e-3, 1e12)\n",
    "ax.legend(loc='best', fontsize=8, framealpha=1.0, title=r\"$L_e - L_\\tau,\\ m_V = 10\\ \\mathrm{MeV}$\", title_fontsize=10)\n",
    "ax.axhline(10.0, lw=1, ls='--', color='k')\n",
    "ax.set_xlabel(r\"$g_{e\\tau}$\", fontsize=16)\n",
    "#ax.set_ylabel(r\"$\\mathrm{Evt.\\ rate\\ (SHiP),\\ }2\\times 10^{20}\\ \\mathrm{POT}$\", fontsize=16)\n",
    "\n",
    "ax = axes[3]\n",
    "ax.plot(g_vec, er_LmuLtau[:,0], color='brown', lw=2, label=r'$K^\\pm\\ \\mathrm{Decay}$')\n",
    "ax.plot(g_vec, er_LmuLtau[:,1], color='dodgerblue', lw=2, label=r'$\\pi^0\\ \\mathrm{Decay}$')\n",
    "ax.plot(g_vec, er_LmuLtau[:,2], color='coral', lw=2, label=r'$\\mathrm{Dark\\ Brem.}$')\n",
    "ax.plot(g_vec, er_LmuLtau[:,4], color='mediumseagreen', lw=2, label=r'$\\mathrm{Dark\\ Ann.}$')\n",
    "ax.plot(g_vec, er_LmuLtau[:,3], color='mediumpurple', lw=2, label=r'$\\mathrm{Dark\\ Comp.}$')\n",
    "ax.plot(g_vec, np.sum(er_LmuLtau, axis=1), color='k', lw=2, alpha=0.6, label=r\"$\\mathrm{Total}$\")\n",
    "ax.set_xscale('log')\n",
    "ax.set_yscale('log')\n",
    "ax.set_ylim(1e-3, 1e12)\n",
    "ax.legend(loc='best', fontsize=8, framealpha=1.0, title=r\"$L_\\mu - L_\\tau,\\ m_V = 10\\ \\mathrm{MeV}$\", title_fontsize=10)\n",
    "ax.axhline(10.0, lw=1, ls='--', color='k')\n",
    "ax.set_xlabel(r\"$g_{\\mu\\tau}$\", fontsize=16)\n",
    "#ax.set_ylabel(r\"$\\mathrm{Evt.\\ rate\\ (SHiP),\\ }2\\times 10^{20}\\ \\mathrm{POT}$\", fontsize=16)\n",
    "\n",
    "fig.savefig(\"/Users/taozhou/Desktop/BSM/SHiP_10MeV_Sensitivity.pdf\", bbox_inches=\"tight\")"
   ]
  },
  {
   "cell_type": "code",
   "execution_count": 84,
   "metadata": {},
   "outputs": [
    {
     "data": {
      "text/plain": [
       "0.28797117956252744"
      ]
     },
     "execution_count": 84,
     "metadata": {},
     "output_type": "execute_result"
    }
   ],
   "source": [
    "spectrum_10MeV_pion = detector_cut(NewShower_pion[0], [120.0], 4.0, method=\"Sample\", energy_cut=None)[0]\n",
    "spectrum_10MeV = detector_cut(NewShower[0], [120.0], 4.0, method=\"Sample\", energy_cut=None)[0]\n",
    "tao_events = pk.load(open(PETITE_home_dir+dictionary_dir+\"energy_weights_particles.pkl\", \"rb\"))\n",
    "tao_darkbrem_nocuts = np.concatenate([tao_events[2]['DarkBrem'][11], tao_events[2]['DarkBrem'][-11]])\n",
    "tao_darkcomp_nocuts = tao_events[2]['DarkComp'][22]\n",
    "tao_dakann_nocuts = tao_events[2]['DarkAnn'][-11]\n",
    "tao_darkbrem_cuts = detector_cut(tao_darkbrem_nocuts, [120.0], 4.0, method=\"Sample\", energy_cut=None)[0]\n",
    "tao_darkcomp_cuts = detector_cut(tao_darkcomp_nocuts, [120.0], 4.0, method=\"Sample\", energy_cut=None)[0]\n",
    "tao_darkann_cuts = detector_cut(tao_dakann_nocuts, [120.0], 4.0, method=\"Sample\", energy_cut=None)[0]\n",
    "np.sum([p0.get_ids()[\"weight\"] for p0 in tao_darkbrem_cuts])/np.sum([p0.get_ids()[\"weight\"] for p0 in tao_darkbrem_nocuts])"
   ]
  },
  {
   "cell_type": "code",
   "execution_count": 89,
   "metadata": {},
   "outputs": [
    {
     "data": {
      "image/png": "[encoded data removed]",
      "text/plain": [
       "<Figure size 432x288 with 1 Axes>"
      ]
     },
     "metadata": {
      "needs_background": "light"
     },
     "output_type": "display_data"
    }
   ],
   "source": [
    "plt.hist([p0.get_p0()[0] for p0 in spectrum_10MeV], weights=[p0.get_ids()['weight'] for p0 in spectrum_10MeV], bins=np.logspace(-2, 3, 51), lw=2, histtype=\"step\", color=\"brown\", label=r\"$K^\\pm \\to \\mu \\nu V$\")\n",
    "plt.hist([p0.get_p0()[0] for p0 in spectrum_10MeV_pion], weights=[p0.get_ids()['weight'] for p0 in spectrum_10MeV_pion], bins=np.logspace(-2, 3, 51), lw=2, histtype=\"step\", color=\"dodgerblue\", label=r\"$\\pi^0 \\to \\gamma V$\")\n",
    "plt.hist([p0.get_p0()[0] for p0 in tao_darkbrem_cuts], weights=[p0.get_ids()['weight'] for p0 in tao_darkbrem_cuts], bins=np.logspace(-2, 3, 51), lw=2, histtype=\"step\", color=\"coral\", label=r\"$e^\\pm Z \\to e^\\pm Z V$\")\n",
    "plt.hist([p0.get_p0()[0] for p0 in tao_darkcomp_cuts], weights=[p0.get_ids()['weight'] for p0 in tao_darkcomp_cuts], bins=np.logspace(-2, 3, 51), lw=2, histtype=\"step\", color=\"mediumpurple\", label=r\"$\\gamma e \\to \\gamma V$\")\n",
    "plt.hist([p0.get_p0()[0] for p0 in tao_darkann_cuts], weights=[p0.get_ids()['weight'] for p0 in tao_darkann_cuts], bins=np.logspace(-2, 3, 51), lw=2, histtype=\"step\", color=\"mediumseagreen\", label=r\"$e^+ e^- \\to (\\gamma) V$\")\n",
    "plt.gca().set_xscale('log')\n",
    "plt.gca().set_yscale('log')\n",
    "plt.gca().axis([0.01, 1000, 1e-7, 100])\n",
    "\n",
    "plt.gca().set_xlabel(r\"$E_V\\ \\mathrm{[GeV]}$\", size=20)\n",
    "plt.gca().set_ylabel(r\"$\\mathrm{Yield\\ [evt./bin/POT]\\ } (\\varepsilon^2 = 1)$\", size=20)\n",
    "plt.legend(loc='best', framealpha=1.0, fontsize=8)\n",
    "plt.savefig(\"/Users/taozhou/Desktop/BSM/SHiP_10MeV_Spectrum.pdf\", bbox_inches=\"tight\")"
   ]
  },
  {
   "cell_type": "code",
   "execution_count": null,
   "metadata": {},
   "outputs": [],
   "source": []
  }
 ],
 "metadata": {
  "kernelspec": {
   "display_name": "base",
   "language": "python",
   "name": "python3"
  },
  "language_info": {
   "codemirror_mode": {
    "name": "ipython",
    "version": 3
   },
   "file_extension": ".py",
   "mimetype": "text/x-python",
   "name": "python",
   "nbconvert_exporter": "python",
   "pygments_lexer": "ipython3",
   "version": "3.8.5"
  }
 },
 "nbformat": 4,
 "nbformat_minor": 2
}
