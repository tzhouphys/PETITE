{
 "cells": [
  {
   "cell_type": "code",
   "execution_count": 1,
   "metadata": {},
   "outputs": [
    {
     "name": "stdout",
     "output_type": "stream",
     "text": [
      "Python version:  3.8.5\n",
      "Numpy version:  1.24.4\n",
      "PETITE home directory: /Users/taozhou/Documents/GitHub/PETITE/\n"
     ]
    }
   ],
   "source": [
    "from platform import python_version\n",
    "print(\"Python version: \", python_version())\n",
    "\n",
    "import numpy as np\n",
    "print(\"Numpy version: \", np.__version__)\n",
    "\n",
    "import os\n",
    "current_path = os.getcwd()\n",
    "PETITE_home_dir= current_path.split('examples')[0]\n",
    "\n",
    "print(\"PETITE home directory:\", PETITE_home_dir)\n",
    "\n",
    "dictionary_dir = \"data/\""
   ]
  },
  {
   "cell_type": "code",
   "execution_count": 2,
   "metadata": {},
   "outputs": [],
   "source": [
    "# import src\n",
    "import sys\n",
    "sys.path.append(PETITE_home_dir)\n",
    "from src.dark_shower import *\n",
    "from src.shower import *\n",
    "import pickle as pk\n",
    "from matplotlib import pyplot as plt\n",
    "from tqdm import tqdm\n",
    "#from tqdm.notebook import tqdm\n",
    "\n",
    "import matplotlib\n",
    "\n",
    "from matplotlib.font_manager import FontProperties\n",
    "from matplotlib.ticker import FixedLocator, MaxNLocator\n",
    "import cProfile\n",
    "profile = cProfile.Profile()\n",
    "import pstats\n",
    "\n",
    "font0 = FontProperties()\n",
    "font = font0.copy()\n",
    "font.set_size(24)\n",
    "font.set_family('serif')\n",
    "labelfont=font0.copy()\n",
    "labelfont.set_size(20)\n",
    "labelfont.set_weight('bold')\n",
    "legfont=font0.copy()\n",
    "legfont.set_size(18)\n",
    "legfont.set_weight('bold')\n",
    "\n",
    "\n",
    "def set_size(w,h, ax=None):\n",
    "    \"\"\" w, h: width, height in inches \"\"\"\n",
    "    if not ax: ax=plt.gca()\n",
    "    l = ax.figure.subplotpars.left\n",
    "    r = ax.figure.subplotpars.right\n",
    "    t = ax.figure.subplotpars.top\n",
    "    b = ax.figure.subplotpars.bottom\n",
    "    figw = float(w)/(r-l)\n",
    "    figh = float(h)/(t-b)\n",
    "    ax.figure.set_size_inches(figw, figh)"
   ]
  },
  {
   "cell_type": "code",
   "execution_count": 6,
   "metadata": {},
   "outputs": [
    {
     "data": {
      "image/png": "[encoded data removed]",
      "text/plain": [
       "<Figure size 720x576 with 4 Axes>"
      ]
     },
     "metadata": {
      "needs_background": "light"
     },
     "output_type": "display_data"
    }
   ],
   "source": [
    "# load data\n",
    "data = np.loadtxt(PETITE_home_dir + dictionary_dir + 'Pi0_400GeVProtons_1e3POT.txt')\n",
    "E = data[:,0]\n",
    "px = data[:,1]\n",
    "py = data[:,2]\n",
    "pz = data[:,3]\n",
    "p = np.sqrt(px**2 + py**2 + pz**2)\n",
    "\n",
    "# Plot histograms\n",
    "plt.figure(figsize=(10, 8))\n",
    "\n",
    "plt.subplot(2, 2, 1)\n",
    "plt.hist(px, bins=100, range=(-10, 10))\n",
    "plt.xlabel('p_x (GeV/c)')\n",
    "plt.ylabel('Counts')\n",
    "\n",
    "plt.subplot(2, 2, 2)\n",
    "plt.hist(py, bins=100, range=(-10, 10))\n",
    "plt.xlabel('p_y (GeV/c)')\n",
    "plt.ylabel('Counts')\n",
    "\n",
    "plt.subplot(2, 2, 3)\n",
    "plt.hist(pz, bins=100, range=(-50, 50))\n",
    "plt.xlabel('p_z (GeV/c)')\n",
    "plt.ylabel('Counts')\n",
    "\n",
    "plt.subplot(2, 2, 4)\n",
    "plt.hist(p, bins=100, range=(0, 50))\n",
    "plt.xlabel('p (GeV/c)')\n",
    "plt.ylabel('Counts')\n",
    "\n",
    "plt.tight_layout()\n",
    "plt.show()\n"
   ]
  },
  {
   "cell_type": "code",
   "execution_count": 3,
   "metadata": {},
   "outputs": [],
   "source": [
    "# minimum energy = 0.03 GeV, vector mass = 10 MeV, target_length =0.5m\n",
    "sTungsten = DarkShower(PETITE_home_dir+dictionary_dir, \"tungsten\", min_energy=0.030, target_length=0.5, mV_in_GeV=0.01, kinetic_mixing=1.0)"
   ]
  },
  {
   "cell_type": "code",
   "execution_count": 4,
   "metadata": {},
   "outputs": [],
   "source": [
    "# Set up lists to organize data according to BSM process and parent particle\n",
    "Energies, Weights, particles = {}, {}, {}\n",
    "parent_pid_options = [11, -11, 22, 111]\n",
    "for pr in dark_process_codes:\n",
    "    Energies[pr] = {}\n",
    "    Weights[pr] = {}\n",
    "    particles[pr] = {}\n",
    "    for pid in parent_pid_options:\n",
    "        Energies[pr][pid] = []\n",
    "        Weights[pr][pid] = []\n",
    "        particles[pr][pid] = []"
   ]
  },
  {
   "cell_type": "code",
   "execution_count": 5,
   "metadata": {},
   "outputs": [
    {
     "name": "stderr",
     "output_type": "stream",
     "text": [
      "  2%|▏         | 74/4083 [12:02<7:50:13,  7.04s/it] /Users/taozhou/Documents/GitHub/PETITE/src/particle.py:100: RuntimeWarning: invalid value encountered in sqrt\n",
      "  invariant_mass = round(np.sqrt(round(value[0]**2 - value[1]**2 - value[2]**2 - value[3]**2, 12)),6)\n",
      "100%|██████████| 4083/4083 [20:44:34<00:00, 18.29s/it]     \n"
     ]
    }
   ],
   "source": [
    "data = np.loadtxt(PETITE_home_dir + dictionary_dir + 'Pi0_400GeVProtons_1e3POT.txt')\n",
    "E = data[:,0]\n",
    "px = data[:,1]\n",
    "py = data[:,2]\n",
    "pz = data[:,3]\n",
    "POT = 1e3\n",
    "for i in tqdm(range(len(data))):\n",
    "    p0 = [E[i], px[i], py[i], pz[i]]\n",
    "    r0 = [0, 0, 0]\n",
    "    pdict = {\"PID\":111, \"weight\":1.0/POT, \"stability\":\"short-lived\"}\n",
    "    part0 = Particle(p0, r0, pdict)\n",
    "    s0SM = sTungsten.generate_shower(part0)\n",
    "    s0BSM = sTungsten.generate_dark_shower(ExDir=list(s0SM))\n",
    "    for p0 in s0BSM[1]:   \n",
    "        genprocess = p0.get_ids()[\"generation_process\"]\n",
    "        parent_pid = p0.get_ids()[\"parent_PID\"]\n",
    "\n",
    "        Energies[genprocess][parent_pid].append(p0.get_p0()[0])\n",
    "        Weights[genprocess][parent_pid].append(p0.get_ids()[\"weight\"])\n",
    "        particles[genprocess][parent_pid].append(p0)"
   ]
  },
  {
   "cell_type": "code",
   "execution_count": 9,
   "metadata": {},
   "outputs": [],
   "source": [
    "\n",
    "# save data\n",
    "with open(PETITE_home_dir + dictionary_dir + 'energy_weights_particles_0.5m.pkl', 'wb') as f:\n",
    "   pk.dump([Energies, Weights, particles], f)"
   ]
  },
  {
   "cell_type": "code",
   "execution_count": 7,
   "metadata": {},
   "outputs": [
    {
     "data": {
      "text/plain": [
       "(0.001, 100.0, 1e-08, 1000.0)"
      ]
     },
     "execution_count": 7,
     "metadata": {},
     "output_type": "execute_result"
    },
    {
     "data": {
      "image/png": "[encoded data removed]",
      "text/plain": [
       "<Figure size 432x288 with 1 Axes>"
      ]
     },
     "metadata": {
      "needs_background": "light"
     },
     "output_type": "display_data"
    }
   ],
   "source": [
    "plt.hist(Energies['DarkBrem'][11], weights=Weights['DarkBrem'][11], bins=np.logspace(-3, 2, 41), histtype='step', lw=2, color='dodgerblue', label=r\"$e^-\\ \\mathrm{Brem.}$\")\n",
    "plt.hist(Energies['DarkBrem'][-11], weights=Weights['DarkBrem'][-11], bins=np.logspace(-3, 2, 41), histtype='step', lw=2, color='coral', label=r\"$e^+\\ \\mathrm{Brem.}$\")\n",
    "plt.hist(Energies['DarkComp'][22], weights=Weights['DarkComp'][22], bins=np.logspace(-3, 2, 41), histtype='step', lw=2, ls='--', color='dodgerblue', label=r\"$\\gamma e^- \\to V e^-$\")\n",
    "plt.hist(Energies['DarkAnn'][-11], weights=Weights['DarkAnn'][-11], bins=np.logspace(-3, 2, 41), histtype='step', lw=2, ls='-.', color='dodgerblue', label=r\"$e^+ e^- \\to \\gamma V$\")\n",
    "plt.legend(loc='best')\n",
    "plt.gca().set_xscale('log')\n",
    "plt.gca().set_yscale('log')\n",
    "plt.gca().set_xlabel(r\"$E_V\\ [\\mathrm{GeV}]$\")\n",
    "plt.gca().set_ylabel(r\"$V/\\mathrm{bin}/\\mathrm{proton\\ on\\ target}$\")\n",
    "plt.gca().set_title(r\"1000POT, tungsten, 0.5m\")\n",
    "plt.gca().axis([1e-3, 1e2, 1e-8, 1e3])"
   ]
  },
  {
   "cell_type": "code",
   "execution_count": 10,
   "metadata": {},
   "outputs": [
    {
     "data": {
      "text/plain": [
       "Text(0.5, 1.0, 'SHiP HS Detector cut, 0.5m tungsten target, 1000POT')"
      ]
     },
     "execution_count": 10,
     "metadata": {},
     "output_type": "execute_result"
    },
    {
     "data": {
      "image/png": "[encoded data removed]",
      "text/plain": [
       "<Figure size 432x288 with 1 Axes>"
      ]
     },
     "metadata": {
      "needs_background": "light"
     },
     "output_type": "display_data"
    }
   ],
   "source": [
    "detector_distance = 119.5 # meters\n",
    "detector_radius = 4 # meters\n",
    "\n",
    "cut_particles_DarkBrem_electrons = detector_cut(particles['DarkBrem'][11], [detector_distance], detector_radius, method=\"Sample\", energy_cut=None)[0]\n",
    "energies = np.array([p.get_p0()[0] for p in cut_particles_DarkBrem_electrons])\n",
    "weights = np.array([p.get_ids()[\"weight\"] for p in cut_particles_DarkBrem_electrons])\n",
    "plt.hist(energies, weights=weights, bins=np.logspace(-3, 2, 41), histtype='step', lw=2, color='dodgerblue', label=r\"$e^-\\ \\mathrm{Brem.}$\")\n",
    "\n",
    "cut_particles_DarkBrem_positrons = detector_cut(particles['DarkBrem'][-11], [detector_distance], detector_radius, method=\"Sample\", energy_cut=None)[0]\n",
    "energies = np.array([p.get_p0()[0] for p in cut_particles_DarkBrem_positrons])\n",
    "weights = np.array([p.get_ids()[\"weight\"] for p in cut_particles_DarkBrem_positrons])\n",
    "plt.hist(energies, weights=weights, bins=np.logspace(-3, 2, 41), histtype='step', lw=2, color='coral', label=r\"$e^+\\ \\mathrm{Brem.}$\")\n",
    "\n",
    "cut_particles_DarkComp = detector_cut(particles['DarkComp'][22], [detector_distance], detector_radius, method=\"Sample\", energy_cut=None)[0]\n",
    "energies = np.array([p.get_p0()[0] for p in cut_particles_DarkComp])\n",
    "weights = np.array([p.get_ids()[\"weight\"] for p in cut_particles_DarkComp])\n",
    "plt.hist(energies, weights=weights, bins=np.logspace(-3, 2, 41), histtype='step', lw=2, ls='--', color='dodgerblue', label=r\"$\\gamma e^- \\to V e^-$\")\n",
    "\n",
    "cut_particles_DarkAnn = detector_cut(particles['DarkAnn'][-11], [detector_distance], detector_radius, method=\"Sample\", energy_cut=None)[0]\n",
    "energies = np.array([p.get_p0()[0] for p in cut_particles_DarkAnn])\n",
    "weights = np.array([p.get_ids()[\"weight\"] for p in cut_particles_DarkAnn])\n",
    "plt.hist(energies, weights=weights, bins=np.logspace(-3, 2, 41), histtype='step', lw=2, ls='-.', color='dodgerblue', label=r\"$e^+ e^- \\to \\gamma V$\")\n",
    "\n",
    "plt.legend(loc='best')\n",
    "plt.gca().set_xscale('log')\n",
    "plt.gca().set_yscale('log')\n",
    "plt.gca().set_xlabel(r\"$E_V\\ [\\mathrm{GeV}]$\")\n",
    "plt.gca().set_ylabel(r\"$V/\\mathrm{bin}/\\mathrm{proton\\ on\\ target}$\")\n",
    "plt.gca().axis([1e-3, 1e2, 1e-8, 1e3])\n",
    "plt.title(\"SHiP HS Detector cut, 0.5m tungsten target, 1000POT\")"
   ]
  },
  {
   "cell_type": "code",
   "execution_count": null,
   "metadata": {},
   "outputs": [],
   "source": []
  }
 ],
 "metadata": {
  "kernelspec": {
   "display_name": "base",
   "language": "python",
   "name": "python3"
  },
  "language_info": {
   "codemirror_mode": {
    "name": "ipython",
    "version": 3
   },
   "file_extension": ".py",
   "mimetype": "text/x-python",
   "name": "python",
   "nbconvert_exporter": "python",
   "pygments_lexer": "ipython3",
   "version": "3.8.5"
  }
 },
 "nbformat": 4,
 "nbformat_minor": 2
}
