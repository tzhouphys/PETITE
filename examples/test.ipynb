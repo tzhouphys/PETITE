{
 "cells": [
  {
   "cell_type": "code",
   "execution_count": 1,
   "metadata": {},
   "outputs": [
    {
     "name": "stdout",
     "output_type": "stream",
     "text": [
      "Python version:  3.8.5\n",
      "Numpy version:  1.24.4\n",
      "PETITE home directory: /Users/taozhou/Documents/GitHub/PETITE/\n"
     ]
    }
   ],
   "source": [
    "from platform import python_version\n",
    "print(\"Python version: \", python_version())\n",
    "\n",
    "import numpy as np\n",
    "print(\"Numpy version: \", np.__version__)\n",
    "\n",
    "import os\n",
    "current_path = os.getcwd()\n",
    "PETITE_home_dir= current_path.split('examples')[0]\n",
    "\n",
    "print(\"PETITE home directory:\", PETITE_home_dir)\n",
    "\n",
    "dictionary_dir = \"data/\""
   ]
  },
  {
   "cell_type": "code",
   "execution_count": 2,
   "metadata": {},
   "outputs": [],
   "source": [
    "from PETITE.dark_shower import *\n",
    "from PETITE.shower import *\n",
    "import pickle as pk\n",
    "from matplotlib import pyplot as plt\n",
    "from tqdm import tqdm\n",
    "import matplotlib\n",
    "\n",
    "from matplotlib.font_manager import FontProperties\n",
    "from matplotlib.ticker import FixedLocator, MaxNLocator\n",
    "import cProfile\n",
    "profile = cProfile.Profile()\n",
    "import pstats\n",
    "\n",
    "font0 = FontProperties()\n",
    "font = font0.copy()\n",
    "font.set_size(24)\n",
    "font.set_family('serif')\n",
    "labelfont=font0.copy()\n",
    "labelfont.set_size(20)\n",
    "labelfont.set_weight('bold')\n",
    "legfont=font0.copy()\n",
    "legfont.set_size(18)\n",
    "legfont.set_weight('bold')\n",
    "\n",
    "\n",
    "def set_size(w,h, ax=None):\n",
    "    \"\"\" w, h: width, height in inches \"\"\"\n",
    "    if not ax: ax=plt.gca()\n",
    "    l = ax.figure.subplotpars.left\n",
    "    r = ax.figure.subplotpars.right\n",
    "    t = ax.figure.subplotpars.top\n",
    "    b = ax.figure.subplotpars.bottom\n",
    "    figw = float(w)/(r-l)\n",
    "    figh = float(h)/(t-b)\n",
    "    ax.figure.set_size_inches(figw, figh)"
   ]
  },
  {
   "cell_type": "code",
   "execution_count": 3,
   "metadata": {},
   "outputs": [],
   "source": [
    "# minimum energy = 0.03 GeV, vector mass = 10 MeV\n",
    "sGraphite = DarkShower(PETITE_home_dir+dictionary_dir, \"graphite\", 0.030, 0.01, kinetic_mixing=1.0)"
   ]
  },
  {
   "cell_type": "code",
   "execution_count": 4,
   "metadata": {},
   "outputs": [],
   "source": [
    "# Set up lists to organize data according to BSM process and parent particle\n",
    "Energies, Weights, particles = {}, {}, {}\n",
    "parent_pid_options = [11, -11, 22, 111]\n",
    "for pr in dark_process_codes:\n",
    "    Energies[pr] = {}\n",
    "    Weights[pr] = {}\n",
    "    particles[pr] = {}\n",
    "    for pid in parent_pid_options:\n",
    "        Energies[pr][pid] = []\n",
    "        Weights[pr][pid] = []\n",
    "        particles[pr][pid] = []"
   ]
  },
  {
   "cell_type": "code",
   "execution_count": 10,
   "metadata": {},
   "outputs": [
    {
     "name": "stderr",
     "output_type": "stream",
     "text": [
      "100%|██████████| 2831/2831 [2:11:42<00:00,  2.79s/it]  \n"
     ]
    }
   ],
   "source": [
    "data = np.loadtxt(PETITE_home_dir+dictionary_dir+'Pi0_120GeVProtons_1e3POT.txt')\n",
    "E = data[:,4]\n",
    "px = data[:,0]\n",
    "py = data[:,1]\n",
    "pz = data[:,2]\n",
    "POT = 1000\n",
    "for i in tqdm(range(len(data))):\n",
    "    p0 = [E[i], px[i], py[i], pz[i]]\n",
    "    r0 = [0, 0, 0]\n",
    "    pdict = {\"PID\":111, \"weight\":1.0/POT, \"stability\":\"short-lived\"}\n",
    "    part0 = Particle(p0, r0, pdict)\n",
    "    s0SM = sGraphite.generate_shower(part0)\n",
    "    s0BSM = sGraphite.generate_dark_shower(ExDir=list(s0SM))\n",
    "    for p0 in s0BSM[1]:   \n",
    "        genprocess = p0.get_ids()[\"generation_process\"]\n",
    "        parent_pid = p0.get_ids()[\"parent_PID\"]\n",
    "\n",
    "        Energies[genprocess][parent_pid].append(p0.get_p0()[0])\n",
    "        Weights[genprocess][parent_pid].append(p0.get_ids()[\"weight\"])\n",
    "        particles[genprocess][parent_pid].append(p0)"
   ]
  },
  {
   "cell_type": "code",
   "execution_count": 12,
   "metadata": {},
   "outputs": [
    {
     "data": {
      "text/plain": [
       "(0.001, 100.0, 1e-06, 10.0)"
      ]
     },
     "execution_count": 12,
     "metadata": {},
     "output_type": "execute_result"
    },
    {
     "data": {
      "image/png": "[encoded data removed]",
      "text/plain": [
       "<Figure size 432x288 with 1 Axes>"
      ]
     },
     "metadata": {
      "needs_background": "light"
     },
     "output_type": "display_data"
    }
   ],
   "source": [
    "plt.hist(Energies['DarkBrem'][11], weights=Weights['DarkBrem'][11], bins=np.logspace(-2, 1, 41), histtype='step', lw=2, color='dodgerblue', label=r\"$e^-\\ \\mathrm{Brem.}$\")\n",
    "plt.hist(Energies['DarkBrem'][-11], weights=Weights['DarkBrem'][-11], bins=np.logspace(-2, 1, 41), histtype='step', lw=2, color='coral', label=r\"$e^+\\ \\mathrm{Brem.}$\")\n",
    "plt.hist(Energies['DarkComp'][22], weights=Weights['DarkComp'][22], bins=np.logspace(-2, 1, 41), histtype='step', lw=2, ls='--', color='dodgerblue', label=r\"$\\gamma e^- \\to V e^-$\")\n",
    "plt.hist(Energies['DarkAnn'][-11], weights=Weights['DarkAnn'][-11], bins=np.logspace(-2, 1, 41), histtype='step', lw=2, ls='-.', color='dodgerblue', label=r\"$e^+ e^- \\to \\gamma V$\")\n",
    "plt.legend(loc='best')\n",
    "plt.gca().set_xscale('log')\n",
    "plt.gca().set_yscale('log')\n",
    "plt.gca().set_xlabel(r\"$E_V\\ [\\mathrm{GeV}]$\")\n",
    "plt.gca().set_ylabel(r\"$V/\\mathrm{bin}/\\mathrm{proton\\ on\\ target}$\")\n",
    "plt.gca().axis([1e-3, 1e2, 1e-6, 10])"
   ]
  },
  {
   "cell_type": "code",
   "execution_count": 1,
   "metadata": {},
   "outputs": [
    {
     "ename": "NameError",
     "evalue": "name 'detector_cut' is not defined",
     "output_type": "error",
     "traceback": [
      "\u001b[0;31m---------------------------------------------------------------------------\u001b[0m",
      "\u001b[0;31mNameError\u001b[0m                                 Traceback (most recent call last)",
      "\u001b[0;32m<ipython-input-1-884640b5d167>\u001b[0m in \u001b[0;36m<module>\u001b[0;34m\u001b[0m\n\u001b[1;32m      2\u001b[0m \u001b[0mdetector_radius\u001b[0m \u001b[0;34m=\u001b[0m \u001b[0;36m2.5\u001b[0m \u001b[0;31m# meters\u001b[0m\u001b[0;34m\u001b[0m\u001b[0;34m\u001b[0m\u001b[0m\n\u001b[1;32m      3\u001b[0m \u001b[0;34m\u001b[0m\u001b[0m\n\u001b[0;32m----> 4\u001b[0;31m \u001b[0mcut_particles_DarkBrem_electrons\u001b[0m \u001b[0;34m=\u001b[0m \u001b[0mdetector_cut\u001b[0m\u001b[0;34m(\u001b[0m\u001b[0mparticles\u001b[0m\u001b[0;34m[\u001b[0m\u001b[0;34m'DarkBrem'\u001b[0m\u001b[0;34m]\u001b[0m\u001b[0;34m[\u001b[0m\u001b[0;36m11\u001b[0m\u001b[0;34m]\u001b[0m\u001b[0;34m,\u001b[0m \u001b[0;34m[\u001b[0m\u001b[0mdetector_distance\u001b[0m\u001b[0;34m]\u001b[0m\u001b[0;34m,\u001b[0m \u001b[0mdetector_radius\u001b[0m\u001b[0;34m,\u001b[0m \u001b[0mmethod\u001b[0m\u001b[0;34m=\u001b[0m\u001b[0;34m\"Sample\"\u001b[0m\u001b[0;34m,\u001b[0m \u001b[0menergy_cut\u001b[0m\u001b[0;34m=\u001b[0m\u001b[0;32mNone\u001b[0m\u001b[0;34m)\u001b[0m\u001b[0;34m[\u001b[0m\u001b[0;36m0\u001b[0m\u001b[0;34m]\u001b[0m\u001b[0;34m\u001b[0m\u001b[0;34m\u001b[0m\u001b[0m\n\u001b[0m\u001b[1;32m      5\u001b[0m \u001b[0menergies\u001b[0m \u001b[0;34m=\u001b[0m \u001b[0mnp\u001b[0m\u001b[0;34m.\u001b[0m\u001b[0marray\u001b[0m\u001b[0;34m(\u001b[0m\u001b[0;34m[\u001b[0m\u001b[0mp\u001b[0m\u001b[0;34m.\u001b[0m\u001b[0mget_p0\u001b[0m\u001b[0;34m(\u001b[0m\u001b[0;34m)\u001b[0m\u001b[0;34m[\u001b[0m\u001b[0;36m0\u001b[0m\u001b[0;34m]\u001b[0m \u001b[0;32mfor\u001b[0m \u001b[0mp\u001b[0m \u001b[0;32min\u001b[0m \u001b[0mcut_particles_DarkBrem_electrons\u001b[0m\u001b[0;34m]\u001b[0m\u001b[0;34m)\u001b[0m\u001b[0;34m\u001b[0m\u001b[0;34m\u001b[0m\u001b[0m\n\u001b[1;32m      6\u001b[0m \u001b[0mweights\u001b[0m \u001b[0;34m=\u001b[0m \u001b[0mnp\u001b[0m\u001b[0;34m.\u001b[0m\u001b[0marray\u001b[0m\u001b[0;34m(\u001b[0m\u001b[0;34m[\u001b[0m\u001b[0mp\u001b[0m\u001b[0;34m.\u001b[0m\u001b[0mget_ids\u001b[0m\u001b[0;34m(\u001b[0m\u001b[0;34m)\u001b[0m\u001b[0;34m[\u001b[0m\u001b[0;34m\"weight\"\u001b[0m\u001b[0;34m]\u001b[0m \u001b[0;32mfor\u001b[0m \u001b[0mp\u001b[0m \u001b[0;32min\u001b[0m \u001b[0mcut_particles_DarkBrem_electrons\u001b[0m\u001b[0;34m]\u001b[0m\u001b[0;34m)\u001b[0m\u001b[0;34m\u001b[0m\u001b[0;34m\u001b[0m\u001b[0m\n",
      "\u001b[0;31mNameError\u001b[0m: name 'detector_cut' is not defined"
     ]
    }
   ],
   "source": [
    "detector_distance = 574 # meters\n",
    "detector_radius = 2.5 # meters\n",
    "\n",
    "cut_particles_DarkBrem_electrons = detector_cut(particles['DarkBrem'][11], [detector_distance], detector_radius, method=\"Sample\", energy_cut=None)[0]\n",
    "energies = np.array([p.get_p0()[0] for p in cut_particles_DarkBrem_electrons])\n",
    "weights = np.array([p.get_ids()[\"weight\"] for p in cut_particles_DarkBrem_electrons])\n",
    "plt.hist(energies, weights=weights, bins=np.logspace(-2, 2, 41), histtype='step', lw=2, color='dodgerblue', label=r\"$e^-\\ \\mathrm{Brem.}$\")\n",
    "\n",
    "cut_particles_DarkBrem_positrons = detector_cut(particles['DarkBrem'][-11], [detector_distance], detector_radius, method=\"Sample\", energy_cut=None)[0]\n",
    "energies = np.array([p.get_p0()[0] for p in cut_particles_DarkBrem_positrons])\n",
    "weights = np.array([p.get_ids()[\"weight\"] for p in cut_particles_DarkBrem_positrons])\n",
    "plt.hist(energies, weights=weights, bins=np.logspace(-2, 2, 41), histtype='step', lw=2, color='coral', label=r\"$e^+\\ \\mathrm{Brem.}$\")\n",
    "\n",
    "cut_particles_DarkComp = detector_cut(particles['DarkComp'][22], [detector_distance], detector_radius, method=\"Sample\", energy_cut=None)[0]\n",
    "energies = np.array([p.get_p0()[0] for p in cut_particles_DarkComp])\n",
    "weights = np.array([p.get_ids()[\"weight\"] for p in cut_particles_DarkComp])\n",
    "plt.hist(energies, weights=weights, bins=np.logspace(-2, 2, 41), histtype='step', lw=2, ls='--', color='dodgerblue', label=r\"$\\gamma e^- \\to V e^-$\")\n",
    "\n",
    "cut_particles_DarkAnn = detector_cut(particles['DarkAnn'][-11], [detector_distance], detector_radius, method=\"Sample\", energy_cut=None)[0]\n",
    "energies = np.array([p.get_p0()[0] for p in cut_particles_DarkAnn])\n",
    "weights = np.array([p.get_ids()[\"weight\"] for p in cut_particles_DarkAnn])\n",
    "plt.hist(energies, weights=weights, bins=np.logspace(-2, 2, 41), histtype='step', lw=2, ls='-.', color='dodgerblue', label=r\"$e^+ e^- \\to \\gamma V$\")\n",
    "\n",
    "plt.legend(loc='best')\n",
    "plt.gca().set_xscale('log')\n",
    "plt.gca().set_yscale('log')\n",
    "plt.gca().set_xlabel(r\"$E_V\\ [\\mathrm{GeV}]$\")\n",
    "plt.gca().set_ylabel(r\"$V/\\mathrm{bin}/\\mathrm{proton\\ on\\ target}$\")\n",
    "plt.gca().axis([1e-3, 1e2, 1e-8, 1])"
   ]
  },
  {
   "cell_type": "code",
   "execution_count": null,
   "metadata": {},
   "outputs": [],
   "source": []
  }
 ],
 "metadata": {
  "kernelspec": {
   "display_name": "base",
   "language": "python",
   "name": "python3"
  },
  "language_info": {
   "codemirror_mode": {
    "name": "ipython",
    "version": 3
   },
   "file_extension": ".py",
   "mimetype": "text/x-python",
   "name": "python",
   "nbconvert_exporter": "python",
   "pygments_lexer": "ipython3",
   "version": "3.8.5"
  }
 },
 "nbformat": 4,
 "nbformat_minor": 2
}
