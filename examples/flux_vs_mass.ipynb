{
 "cells": [
  {
   "cell_type": "code",
   "execution_count": 1,
   "metadata": {},
   "outputs": [
    {
     "name": "stdout",
     "output_type": "stream",
     "text": [
      "Python version:  3.8.5\n",
      "Numpy version:  1.24.4\n",
      "PETITE home directory: /Users/taozhou/Documents/GitHub/PETITE/\n"
     ]
    }
   ],
   "source": [
    "from platform import python_version\n",
    "print(\"Python version: \", python_version())\n",
    "\n",
    "import numpy as np\n",
    "print(\"Numpy version: \", np.__version__)\n",
    "\n",
    "import os\n",
    "current_path = os.getcwd()\n",
    "PETITE_home_dir= current_path.split('examples')[0]\n",
    "\n",
    "print(\"PETITE home directory:\", PETITE_home_dir)\n",
    "\n",
    "dictionary_dir = \"data/\""
   ]
  },
  {
   "cell_type": "code",
   "execution_count": 2,
   "metadata": {},
   "outputs": [],
   "source": [
    "# import src\n",
    "import sys\n",
    "sys.path.append(PETITE_home_dir)\n",
    "from src.dark_shower import *\n",
    "from src.shower import *\n",
    "import pickle as pk\n",
    "from matplotlib import pyplot as plt\n",
    "from tqdm import tqdm\n",
    "#from tqdm.notebook import tqdm\n",
    "\n",
    "import matplotlib\n",
    "\n",
    "from matplotlib.font_manager import FontProperties\n",
    "from matplotlib.ticker import FixedLocator, MaxNLocator\n",
    "import cProfile\n",
    "profile = cProfile.Profile()\n",
    "import pstats\n",
    "\n",
    "font0 = FontProperties()\n",
    "font = font0.copy()\n",
    "font.set_size(24)\n",
    "font.set_family('serif')\n",
    "labelfont=font0.copy()\n",
    "labelfont.set_size(20)\n",
    "labelfont.set_weight('bold')\n",
    "legfont=font0.copy()\n",
    "legfont.set_size(18)\n",
    "legfont.set_weight('bold')\n",
    "\n",
    "\n",
    "def set_size(w,h, ax=None):\n",
    "    \"\"\" w, h: width, height in inches \"\"\"\n",
    "    if not ax: ax=plt.gca()\n",
    "    l = ax.figure.subplotpars.left\n",
    "    r = ax.figure.subplotpars.right\n",
    "    t = ax.figure.subplotpars.top\n",
    "    b = ax.figure.subplotpars.bottom\n",
    "    figw = float(w)/(r-l)\n",
    "    figh = float(h)/(t-b)\n",
    "    ax.figure.set_size_inches(figw, figh)"
   ]
  },
  {
   "cell_type": "code",
   "execution_count": 6,
   "metadata": {},
   "outputs": [],
   "source": [
    "# Set up lists to organize data according to BSM process and parent particle\n",
    "Energies, Weights, particles, totalflux = {}, {}, {}, {}\n",
    "parent_pid_options = [11, -11, 22, 111]\n",
    "for pr in dark_process_codes:\n",
    "    Energies[pr] = {}\n",
    "    Weights[pr] = {}\n",
    "    particles[pr] = {}\n",
    "    totalflux[pr] = {}\n",
    "    for pid in parent_pid_options:\n",
    "        Energies[pr][pid] = []\n",
    "        Weights[pr][pid] = []\n",
    "        particles[pr][pid] = []\n",
    "        totalflux[pr][pid] = []"
   ]
  },
  {
   "cell_type": "code",
   "execution_count": 5,
   "metadata": {},
   "outputs": [
    {
     "name": "stdout",
     "output_type": "stream",
     "text": [
      "[0.001      0.00107227 0.00114976 0.00123285 0.00132194 0.00141747\n",
      " 0.00151991 0.00162975 0.00174753 0.00187382 0.00200923 0.00215443\n",
      " 0.00231013 0.00247708 0.00265609 0.00284804 0.00305386 0.00327455\n",
      " 0.00351119 0.00376494 0.00403702 0.00432876 0.00464159 0.00497702\n",
      " 0.0053367  0.00572237 0.00613591 0.00657933 0.0070548  0.00756463\n",
      " 0.00811131 0.00869749 0.00932603 0.01       0.01072267 0.01149757\n",
      " 0.01232847 0.01321941 0.01417474 0.01519911 0.01629751 0.01747528\n",
      " 0.01873817 0.02009233 0.02154435 0.0231013  0.02477076 0.02656088\n",
      " 0.02848036 0.03053856 0.03274549 0.03511192 0.03764936 0.04037017\n",
      " 0.04328761 0.04641589 0.04977024 0.05336699 0.05722368 0.06135907\n",
      " 0.06579332 0.07054802 0.07564633 0.08111308 0.0869749  0.09326033\n",
      " 0.1        0.10722672 0.1149757  0.12328467 0.13219411 0.14174742\n",
      " 0.15199111 0.16297508 0.17475284 0.18738174 0.2009233  0.21544347\n",
      " 0.23101297 0.24770764 0.26560878 0.28480359 0.30538555 0.32745492\n",
      " 0.35111917 0.37649358 0.40370173 0.43287613 0.46415888 0.49770236\n",
      " 0.53366992 0.57223677 0.61359073 0.65793322 0.70548023 0.75646333\n",
      " 0.81113083 0.869749   0.93260335 1.        ]\n"
     ]
    }
   ],
   "source": [
    "data = np.loadtxt(PETITE_home_dir + dictionary_dir + 'Pi0_400GeVProtons_1e3POT.txt')\n",
    "E = data[:,0]\n",
    "px = data[:,1]\n",
    "py = data[:,2]\n",
    "pz = data[:,3]\n",
    "POT = 1e3\n",
    "mass_list = np.logspace(-3, 0, 100)\n",
    "shower_list = []\n",
    "for i in tqdm(range(len(mass_list))):\n",
    "    sTungsten = DarkShower(PETITE_home_dir+dictionary_dir, 0.030, mass_list[i], kinetic_mixing=1.0)\n",
    "    for i in tqdm(range(len(data))):\n",
    "        p0 = [E[i], px[i], py[i], pz[i]]\n",
    "        r0 = [0, 0, 0]\n",
    "        pdict = {\"PID\":111, \"weight\":1.0/POT, \"stability\":\"short-lived\"}\n",
    "        part0 = Particle(p0, r0, pdict)\n",
    "        s0SM = sTungsten.generate_shower(part0)\n",
    "        s0BSM = sTungsten.generate_dark_shower(ExDir=list(s0SM))\n",
    "        for p0 in s0BSM[1]:   \n",
    "            genprocess = p0.get_ids()[\"generation_process\"]\n",
    "            parent_pid = p0.get_ids()[\"parent_PID\"]\n",
    "\n",
    "            Energies[genprocess][parent_pid].append(p0.get_p0()[0])\n",
    "            Weights[genprocess][parent_pid].append(p0.get_ids()[\"weight\"])\n",
    "            particles[genprocess][parent_pid].append(p0)\n",
    "\n",
    "#stungsten = DarkShower(PETITE_home_dir+dictionary_dir, \"tungsten\", 0.030, 0.01, kinetic_mixing=1.0)"
   ]
  },
  {
   "cell_type": "code",
   "execution_count": null,
   "metadata": {},
   "outputs": [],
   "source": []
  }
 ],
 "metadata": {
  "kernelspec": {
   "display_name": "base",
   "language": "python",
   "name": "python3"
  },
  "language_info": {
   "codemirror_mode": {
    "name": "ipython",
    "version": 3
   },
   "file_extension": ".py",
   "mimetype": "text/x-python",
   "name": "python",
   "nbconvert_exporter": "python",
   "pygments_lexer": "ipython3",
   "version": "3.8.5"
  }
 },
 "nbformat": 4,
 "nbformat_minor": 2
}
